{
 "cells": [
  {
   "cell_type": "code",
   "execution_count": 45,
   "metadata": {
    "collapsed": false
   },
   "outputs": [],
   "source": [
    "import numpy as np\n",
    "\n",
    "class ProdLayer:\n",
    "    def __init__(self, id, connections):\n",
    "        self.t = 'P'\n",
    "        self.id = id\n",
    "        self.connections = connections\n",
    "        self.results = [0]*len(connections)\n",
    "        \n",
    "class SumLayer:\n",
    "    def __init__(self, id, connections, weights):\n",
    "        self.t = 'S'\n",
    "        self.id = id\n",
    "        self.connections = connections\n",
    "        self.results = [0]*len(connections)\n",
    "        self.weights = weights\n",
    "        \n",
    "class InputLayer:\n",
    "    def __init__(self, id, size):\n",
    "        self.id = id\n",
    "        self.results = [0]*size\n",
    "        \n",
    "class SPN:\n",
    "    def __init__(self):\n",
    "        self.layers = [];\n",
    "        self.weights = [];\n",
    "\n",
    "    def add_layer(self, name, connections=[], weights=[], size=0):\n",
    "        if name == 'I':\n",
    "            assert len(self.layers) == 0\n",
    "            assert size > 0\n",
    "            self.layers.append(InputLayer(0, size))\n",
    "        elif name == 'S':\n",
    "            assert len(weights) > 0\n",
    "            assert len(connections) > 0\n",
    "            assert len(weights) == len(connections)\n",
    "            self.layers.append(SumLayer(len(self.layers)-1, \n",
    "                                        connections, \n",
    "                                        weights))\n",
    "        elif name == 'P':\n",
    "            assert len(connections) > 0\n",
    "            self.layers.append(ProdLayer(len(self.layers)-1, \n",
    "                                        connections))\n",
    "            \n",
    "    def compute_sum(self, layer):\n",
    "        for i in range(len(layer.weights)):\n",
    "            s = 0\n",
    "            for j in range(len(layer.weights[i])):\n",
    "                a = layer.connections[i][j][0]\n",
    "                b = layer.connections[i][j][1]\n",
    "                w = layer.weights[i][j]\n",
    "                s += w*(self.layers[a].results[b])\n",
    "            layer.results[i] = s\n",
    "    \n",
    "    def compute_product(self, layer):\n",
    "        for i in range(len(layer.connections)):\n",
    "            p = 1\n",
    "            for j in range(len(layer.connections[i])):\n",
    "                a = layer.connections[i][j][0]\n",
    "                b = layer.connections[i][j][1]\n",
    "                p *= (self.layers[a].results[b])\n",
    "            layer.results[i] = p    \n",
    "            \n",
    "    def compute_slow(self, inp):\n",
    "        self.layers[0].results = inp\n",
    "        for L in self.layers[1:]:\n",
    "            if L.t == 'P':\n",
    "                self.compute_product(L)\n",
    "            else:\n",
    "                self.compute_sum(L)\n",
    "    \n",
    "    def get_val(self):\n",
    "        return self.layers[-1].results    "
   ]
  },
  {
   "cell_type": "markdown",
   "metadata": {},
   "source": [
    "## Implementation of the two SPNs in thies paper:\n",
    "http://homes.cs.washington.edu/~pedrod/papers/uai11a.pdf"
   ]
  },
  {
   "cell_type": "code",
   "execution_count": 46,
   "metadata": {
    "collapsed": false
   },
   "outputs": [],
   "source": [
    "SPN1 = SPN()\n",
    "SPN1.add_layer('I', size=4)\n",
    "c1 = [[(0, 0), (0, 1)],\n",
    "      [(0, 0), (0, 1)],\n",
    "      [(0, 2), (0, 3)],\n",
    "      [(0, 2), (0, 3)]]\n",
    "w1 = [\n",
    "    [0.6, 0.4],\n",
    "    [0.9, 0.1],\n",
    "    [0.3, 0.7],\n",
    "    [0.2, 0.8],\n",
    "]\n",
    "c2 = [\n",
    "    [(1, 0), (1, 2)],\n",
    "    [(1, 0), (1, 3)],\n",
    "    [(1, 1), (1, 3)],\n",
    "     ]\n",
    "c3 = [\n",
    "    [(2, 0), (2, 1), (2, 2)]\n",
    "]\n",
    "w3 = [\n",
    "    [0.5, 0.2, 0.3]\n",
    "]\n",
    "SPN1.add_layer('S', c1, w1)\n",
    "SPN1.add_layer('P', c2)\n",
    "SPN1.add_layer('S', c3, w3)"
   ]
  },
  {
   "cell_type": "code",
   "execution_count": 49,
   "metadata": {
    "collapsed": false
   },
   "outputs": [
    {
     "data": {
      "text/plain": [
       "[1.0]"
      ]
     },
     "execution_count": 49,
     "metadata": {},
     "output_type": "execute_result"
    }
   ],
   "source": [
    "SPN1.compute_slow([1]*4)\n",
    "SPN1.get_val()"
   ]
  },
  {
   "cell_type": "code",
   "execution_count": 50,
   "metadata": {
    "collapsed": true
   },
   "outputs": [],
   "source": [
    "SPN2 = SPN()\n",
    "SPN2.add_layer('I', size=6)\n",
    "c1 = [\n",
    "    [(0, 0)],\n",
    "    [(0, 1), (0, 2)],\n",
    "    [(0, 1), (0, 2)],\n",
    "    [(0, 3), (0, 4)],\n",
    "    [(0, 3), (0, 4)],\n",
    "    [(0, 5)]\n",
    "]\n",
    "\n",
    "w1 = [\n",
    "    [1],\n",
    "    [0.1, 0.9],\n",
    "    [0.2, 0.8],\n",
    "    [0.5, 0.5],\n",
    "    [0.3, 0.7],\n",
    "    [1]\n",
    "]\n",
    "\n",
    "c2 = [\n",
    "    [(1, 0), (1, 1), (1, 3)],\n",
    "    [(1, 2), (1, 4), (1, 5)]\n",
    "]\n",
    "\n",
    "c3 = [\n",
    "    [(2, 0), (2, 1)]\n",
    "]\n",
    "w3 = [\n",
    "    [0.95, 0.05]\n",
    "]\n",
    "\n",
    "SPN2.add_layer('S', c1, w1)\n",
    "SPN2.add_layer('P', c2)\n",
    "SPN2.add_layer('S', c3, w3)"
   ]
  },
  {
   "cell_type": "code",
   "execution_count": 51,
   "metadata": {
    "collapsed": false
   },
   "outputs": [
    {
     "data": {
      "text/plain": [
       "[1.0]"
      ]
     },
     "execution_count": 51,
     "metadata": {},
     "output_type": "execute_result"
    }
   ],
   "source": [
    "SPN2.compute_slow([1]*6)\n",
    "SPN2.get_val()"
   ]
  },
  {
   "cell_type": "code",
   "execution_count": null,
   "metadata": {
    "collapsed": true
   },
   "outputs": [],
   "source": []
  }
 ],
 "metadata": {
  "kernelspec": {
   "display_name": "Python 2",
   "language": "python",
   "name": "python2"
  },
  "language_info": {
   "codemirror_mode": {
    "name": "ipython",
    "version": 2
   },
   "file_extension": ".py",
   "mimetype": "text/x-python",
   "name": "python",
   "nbconvert_exporter": "python",
   "pygments_lexer": "ipython2",
   "version": "2.7.12"
  }
 },
 "nbformat": 4,
 "nbformat_minor": 0
}
