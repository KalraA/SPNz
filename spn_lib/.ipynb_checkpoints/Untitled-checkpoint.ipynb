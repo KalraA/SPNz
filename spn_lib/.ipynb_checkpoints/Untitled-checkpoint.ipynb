{
 "cells": [
  {
   "cell_type": "code",
   "execution_count": 3,
   "metadata": {
    "collapsed": true
   },
   "outputs": [],
   "source": [
    "from nodes import *\n",
    "import random"
   ]
  },
  {
   "cell_type": "code",
   "execution_count": 2,
   "metadata": {
    "collapsed": true
   },
   "outputs": [],
   "source": [
    "#random_gen inputs\n",
    "branching_factor = (5, 12)\n",
    "inputs = 2"
   ]
  },
  {
   "cell_type": "code",
   "execution_count": null,
   "metadata": {
    "collapsed": true
   },
   "outputs": [],
   "source": [
    "generate_children(nodes, curr_node, scope, bf):\n",
    "    curr_id = curr_node.id + 1\n",
    "    if isinstance(node SumNode):\n",
    "        num_children = random.randint(bf[0], bf[1])\n",
    "        scopes = [[]]*num_children\n",
    "        for s in scope:\n",
    "            slot = random.randint(0, num_children-1)\n",
    "            scope[slot].append(s)\n",
    "        scopes = filter(lambda x: x != [], scopes)\n",
    "        for c in xrange(len(scopes)):\n",
    "            child = PrdNode(curr_id)\n",
    "            curr_node.children.append(curr_id)\n",
    "            curr_node.weights.append(random.random() + 0.5)\n",
    "            nodes, curr_id = generate_children(nodes, child, scopes[c], bf)\n",
    "            "
   ]
  }
 ],
 "metadata": {
  "kernelspec": {
   "display_name": "Python 2",
   "language": "python",
   "name": "python2"
  },
  "language_info": {
   "codemirror_mode": {
    "name": "ipython",
    "version": 2
   },
   "file_extension": ".py",
   "mimetype": "text/x-python",
   "name": "python",
   "nbconvert_exporter": "python",
   "pygments_lexer": "ipython2",
   "version": "2.7.12"
  }
 },
 "nbformat": 4,
 "nbformat_minor": 0
}
